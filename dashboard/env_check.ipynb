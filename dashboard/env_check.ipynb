{
 "cells": [
  {
   "cell_type": "code",
   "execution_count": 1,
   "id": "cdbef610-7f83-4a54-93f5-0392bfd31c7b",
   "metadata": {
    "execution": {
     "iopub.execute_input": "2024-03-29T19:05:42.575423Z",
     "iopub.status.busy": "2024-03-29T19:05:42.574396Z",
     "iopub.status.idle": "2024-03-29T19:05:42.710440Z",
     "shell.execute_reply": "2024-03-29T19:05:42.710158Z",
     "shell.execute_reply.started": "2024-03-29T19:05:42.575360Z"
    }
   },
   "outputs": [],
   "source": [
    "import gymnasium as gym"
   ]
  },
  {
   "cell_type": "code",
   "execution_count": 22,
   "id": "8caaeccf-97c0-4870-a524-c410ec2d2252",
   "metadata": {
    "execution": {
     "iopub.execute_input": "2024-03-29T20:18:10.397386Z",
     "iopub.status.busy": "2024-03-29T20:18:10.396673Z",
     "iopub.status.idle": "2024-03-29T20:18:10.469096Z",
     "shell.execute_reply": "2024-03-29T20:18:10.468841Z",
     "shell.execute_reply.started": "2024-03-29T20:18:10.397338Z"
    }
   },
   "outputs": [],
   "source": [
    "env = gym.make(\"PongNoFrameskip-v4\")"
   ]
  },
  {
   "cell_type": "code",
   "execution_count": 20,
   "id": "cf40468b-9ba6-4442-bc77-cb97f3b81dc7",
   "metadata": {
    "execution": {
     "iopub.execute_input": "2024-03-29T19:12:15.012266Z",
     "iopub.status.busy": "2024-03-29T19:12:15.011737Z",
     "iopub.status.idle": "2024-03-29T19:12:15.031651Z",
     "shell.execute_reply": "2024-03-29T19:12:15.031146Z",
     "shell.execute_reply.started": "2024-03-29T19:12:15.012234Z"
    }
   },
   "outputs": [
    {
     "ename": "TypeError",
     "evalue": "Wrapper.render() takes 1 positional argument but 2 were given",
     "output_type": "error",
     "traceback": [
      "\u001b[0;31m---------------------------------------------------------------------------\u001b[0m",
      "\u001b[0;31mTypeError\u001b[0m                                 Traceback (most recent call last)",
      "Cell \u001b[0;32mIn[20], line 3\u001b[0m\n\u001b[1;32m      1\u001b[0m \u001b[38;5;28;01mimport\u001b[39;00m \u001b[38;5;21;01mmatplotlib\u001b[39;00m\u001b[38;5;21;01m.\u001b[39;00m\u001b[38;5;21;01mpyplot\u001b[39;00m \u001b[38;5;28;01mas\u001b[39;00m \u001b[38;5;21;01mplt\u001b[39;00m\n\u001b[1;32m      2\u001b[0m env\u001b[38;5;241m.\u001b[39mreset()\n\u001b[0;32m----> 3\u001b[0m a \u001b[38;5;241m=\u001b[39m \u001b[43menv\u001b[49m\u001b[38;5;241;43m.\u001b[39;49m\u001b[43mrender\u001b[49m\u001b[43m(\u001b[49m\u001b[38;5;124;43m'\u001b[39;49m\u001b[38;5;124;43mrgb_array\u001b[39;49m\u001b[38;5;124;43m'\u001b[39;49m\u001b[43m)\u001b[49m\n\u001b[1;32m      5\u001b[0m plt\u001b[38;5;241m.\u001b[39mimshow(a)\n",
      "\u001b[0;31mTypeError\u001b[0m: Wrapper.render() takes 1 positional argument but 2 were given"
     ]
    }
   ],
   "source": [
    "import matplotlib.pyplot as plt\n",
    "env.reset()\n",
    "a = env.render()\n",
    "\n",
    "plt.imshow(a)\n"
   ]
  },
  {
   "cell_type": "code",
   "execution_count": 24,
   "id": "276a5169-53f2-453a-a2ef-ba6360092612",
   "metadata": {
    "execution": {
     "iopub.execute_input": "2024-03-29T20:18:21.055198Z",
     "iopub.status.busy": "2024-03-29T20:18:21.054230Z",
     "iopub.status.idle": "2024-03-29T20:18:21.071123Z",
     "shell.execute_reply": "2024-03-29T20:18:21.070748Z",
     "shell.execute_reply.started": "2024-03-29T20:18:21.055139Z"
    }
   },
   "outputs": [
    {
     "name": "stdout",
     "output_type": "stream",
     "text": [
      "(array([[[  0,   0,   0],\n",
      "        [  0,   0,   0],\n",
      "        [  0,   0,   0],\n",
      "        ...,\n",
      "        [109, 118,  43],\n",
      "        [109, 118,  43],\n",
      "        [109, 118,  43]],\n",
      "\n",
      "       [[109, 118,  43],\n",
      "        [109, 118,  43],\n",
      "        [109, 118,  43],\n",
      "        ...,\n",
      "        [109, 118,  43],\n",
      "        [109, 118,  43],\n",
      "        [109, 118,  43]],\n",
      "\n",
      "       [[109, 118,  43],\n",
      "        [109, 118,  43],\n",
      "        [109, 118,  43],\n",
      "        ...,\n",
      "        [109, 118,  43],\n",
      "        [109, 118,  43],\n",
      "        [109, 118,  43]],\n",
      "\n",
      "       ...,\n",
      "\n",
      "       [[ 53,  95,  24],\n",
      "        [ 53,  95,  24],\n",
      "        [ 53,  95,  24],\n",
      "        ...,\n",
      "        [ 53,  95,  24],\n",
      "        [ 53,  95,  24],\n",
      "        [ 53,  95,  24]],\n",
      "\n",
      "       [[ 53,  95,  24],\n",
      "        [ 53,  95,  24],\n",
      "        [ 53,  95,  24],\n",
      "        ...,\n",
      "        [ 53,  95,  24],\n",
      "        [ 53,  95,  24],\n",
      "        [ 53,  95,  24]],\n",
      "\n",
      "       [[ 53,  95,  24],\n",
      "        [ 53,  95,  24],\n",
      "        [ 53,  95,  24],\n",
      "        ...,\n",
      "        [ 53,  95,  24],\n",
      "        [ 53,  95,  24],\n",
      "        [ 53,  95,  24]]], dtype=uint8), {'lives': 0, 'episode_frame_number': 0, 'frame_number': 1})\n"
     ]
    }
   ],
   "source": [
    "print(env.reset())  "
   ]
  },
  {
   "cell_type": "code",
   "execution_count": null,
   "id": "ddf22e10-678d-4208-a65e-b2ef93964293",
   "metadata": {},
   "outputs": [],
   "source": []
  },
  {
   "cell_type": "code",
   "execution_count": 23,
   "id": "95337333-a65a-47ba-acf0-bd31f856575c",
   "metadata": {
    "execution": {
     "iopub.execute_input": "2024-03-29T20:18:14.736016Z",
     "iopub.status.busy": "2024-03-29T20:18:14.735423Z",
     "iopub.status.idle": "2024-03-29T20:18:14.749190Z",
     "shell.execute_reply": "2024-03-29T20:18:14.748824Z",
     "shell.execute_reply.started": "2024-03-29T20:18:14.735977Z"
    }
   },
   "outputs": [
    {
     "name": "stdout",
     "output_type": "stream",
     "text": [
      "0\n"
     ]
    },
    {
     "ename": "ValueError",
     "evalue": "too many values to unpack (expected 4)",
     "output_type": "error",
     "traceback": [
      "\u001b[0;31m---------------------------------------------------------------------------\u001b[0m",
      "\u001b[0;31mValueError\u001b[0m                                Traceback (most recent call last)",
      "Cell \u001b[0;32mIn[23], line 12\u001b[0m\n\u001b[1;32m      9\u001b[0m \u001b[38;5;28mprint\u001b[39m(i)\n\u001b[1;32m     10\u001b[0m i \u001b[38;5;241m+\u001b[39m\u001b[38;5;241m=\u001b[39m \u001b[38;5;241m1\u001b[39m\n\u001b[0;32m---> 12\u001b[0m obs, rewards, done, info \u001b[38;5;241m=\u001b[39m env\u001b[38;5;241m.\u001b[39mstep(action)\n\u001b[1;32m     13\u001b[0m \u001b[38;5;28mprint\u001b[39m(\u001b[38;5;124mf\u001b[39m\u001b[38;5;124m\"\u001b[39m\u001b[38;5;124maction: \u001b[39m\u001b[38;5;132;01m{\u001b[39;00maction\u001b[38;5;132;01m}\u001b[39;00m\u001b[38;5;124m reward: \u001b[39m\u001b[38;5;132;01m{\u001b[39;00mrewards\u001b[38;5;132;01m}\u001b[39;00m\u001b[38;5;124m\"\u001b[39m)\n\u001b[1;32m     15\u001b[0m \u001b[38;5;28mprint\u001b[39m(\u001b[38;5;124m\"\u001b[39m\u001b[38;5;124mrewards\u001b[39m\u001b[38;5;124m\"\u001b[39m, rewards)\n",
      "\u001b[0;31mValueError\u001b[0m: too many values to unpack (expected 4)"
     ]
    }
   ],
   "source": [
    "i=0\n",
    "done = False\n",
    "obs = env.reset()\n",
    "\n",
    "while not done:\n",
    "    action = env.action_space.sample()\n",
    "\n",
    "        \n",
    "    print(i)\n",
    "    i += 1\n",
    "    \n",
    "    obs, rewards, done, info = env.step(action)\n",
    "    print(f\"action: {action} reward: {rewards}\")\n",
    "    \n",
    "    print(\"rewards\", rewards)"
   ]
  },
  {
   "cell_type": "code",
   "execution_count": null,
   "id": "6c31d0ab-1e42-4131-ba0d-1189179b5afb",
   "metadata": {},
   "outputs": [],
   "source": [
    "import matplotlib.pyplot as plt\n",
    "import gymnasium as gym\n",
    "\n",
    "# env = gym.make(\"MountainCar-v0\")\n",
    "env = gym.make(\"Breakout-v4\", render_mode='rgb_array')\n",
    "\n",
    "env.reset()\n",
    "\n",
    "\n",
    "a = env.render()\n",
    "print(a)\n",
    "print(type(a))\n",
    "print(a.shape)\n",
    "\n",
    "# plt.figure()\n",
    "plt.imshow(a)\n",
    "plt.show()"
   ]
  }
 ],
 "metadata": {
  "kernelspec": {
   "display_name": "Python 3 (ipykernel)",
   "language": "python",
   "name": "python3"
  },
  "language_info": {
   "codemirror_mode": {
    "name": "ipython",
    "version": 3
   },
   "file_extension": ".py",
   "mimetype": "text/x-python",
   "name": "python",
   "nbconvert_exporter": "python",
   "pygments_lexer": "ipython3",
   "version": "3.11.8"
  }
 },
 "nbformat": 4,
 "nbformat_minor": 5
}
